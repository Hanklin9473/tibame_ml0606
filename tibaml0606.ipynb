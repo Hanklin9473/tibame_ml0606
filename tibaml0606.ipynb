{
  "nbformat": 4,
  "nbformat_minor": 0,
  "metadata": {
    "colab": {
      "name": "tibaml0606.ipynb",
      "provenance": [],
      "collapsed_sections": [],
      "authorship_tag": "ABX9TyPeo5GGEFS1N0FB6XJ75FwH",
      "include_colab_link": true
    },
    "kernelspec": {
      "name": "python3",
      "display_name": "Python 3"
    },
    "language_info": {
      "name": "python"
    }
  },
  "cells": [
    {
      "cell_type": "markdown",
      "metadata": {
        "id": "view-in-github",
        "colab_type": "text"
      },
      "source": [
        "<a href=\"https://colab.research.google.com/github/Hanklin9473/tibame_ml0606/blob/main/tibaml0606.ipynb\" target=\"_parent\"><img src=\"https://colab.research.google.com/assets/colab-badge.svg\" alt=\"Open In Colab\"/></a>"
      ]
    },
    {
      "cell_type": "markdown",
      "source": [
        ""
      ],
      "metadata": {
        "id": "KEdZGtusveYD"
      }
    },
    {
      "cell_type": "markdown",
      "source": [
        "latex math  \n",
        "了解更多，請參考下方網址\n",
        "https://en.wikibooks.org/wiki/LaTeX/Mathematics\n",
        "\n",
        "$面積= \\frac{1}{x_1+2}\\ pi R^2$    ...test\n"
      ],
      "metadata": {
        "id": "ZlWIuxCgwhCO"
      }
    },
    {
      "cell_type": "code",
      "source": [
        "#開始分類程式~ 練習"
      ],
      "metadata": {
        "id": "_7PtfQTKWSu8"
      },
      "execution_count": null,
      "outputs": []
    }
  ]
}